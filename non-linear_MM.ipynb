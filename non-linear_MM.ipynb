{
 "cells": [
  {
   "cell_type": "code",
   "execution_count": 1,
   "metadata": {},
   "outputs": [
    {
     "name": "stdout",
     "output_type": "stream",
     "text": [
      "       S       v\n",
      "0    4.7  0.1973\n",
      "1    9.4  0.6750\n",
      "2   18.8  1.0690\n",
      "3   38.0  1.4890\n",
      "4   75.0  1.8000\n",
      "5  150.0  2.3700\n",
      "6  300.0  2.8000\n",
      "\n",
      "Km =  41.74\n",
      "Vmax =  3.08\n",
      "\n",
      "covar =  [[2.57706418e-02 8.99437077e-01]\n",
      " [8.99437077e-01 4.42081875e+01]]\n"
     ]
    },
    {
     "data": {
      "image/png": "[encoded data removed]",
      "text/plain": [
       "<Figure size 432x288 with 1 Axes>"
      ]
     },
     "metadata": {
      "needs_background": "light"
     },
     "output_type": "display_data"
    }
   ],
   "source": [
    "\"\"\"\n",
    "Created on Tue Jun  7 13:01:21 2022\n",
    "NL-MM: non-linear michalis menton\n",
    "Created on Mon May  9 16:43:18 2022\n",
    "# https://docs.scipy.org/doc/scipy/reference/generated/scipy.optimize.curve_fit.html#scipy.optimize.curve_fit\n",
    "@author: fnorris\n",
    "\"\"\"\n",
    "import pandas as pd\n",
    "import scipy\n",
    "from scipy import optimize\n",
    "import numpy as np\n",
    "import pylab as plt\n",
    "\n",
    "#read the data file into a dataframe and assign data to lists...also find the maximum value of s\n",
    "\n",
    "df =pd.read_csv('C:/Users/fnorris/Documents/plate_reader_data/Results.csv')\n",
    "print(df)\n",
    "\n",
    "s = df['S'].tolist()\n",
    "v = df['v'].tolist()\n",
    "sMax = int(max(s))\n",
    "\n",
    "# define the model to be fit\n",
    "\n",
    "def model(s, Vm, Km):\n",
    "    return (Vm*s/(Km+s))\n",
    "\n",
    "\n",
    "# plot the data points as red circles\n",
    "plt.plot(s,v, \"ro\")\n",
    "\n",
    "# non-linear fit using the model\n",
    "\n",
    "parameters, covar = scipy.optimize.curve_fit(model, s, v)\n",
    "\n",
    "print('')\n",
    "print('Km = ',round(parameters[1],2))\n",
    "print('Vmax = ',round(parameters[0],2))\n",
    "print('')\n",
    "print('covar = ',covar)\n",
    "\n",
    "# plot the fitted line \n",
    "t= np.linspace(0,sMax)\n",
    "plt.plot(t,model(t,*parameters))\n",
    "plt.show()"
   ]
  },
  {
   "cell_type": "code",
   "execution_count": null,
   "metadata": {},
   "outputs": [],
   "source": []
  }
 ],
 "metadata": {
  "kernelspec": {
   "display_name": "Python 3",
   "language": "python",
   "name": "python3"
  },
  "language_info": {
   "codemirror_mode": {
    "name": "ipython",
    "version": 3
   },
   "file_extension": ".py",
   "mimetype": "text/x-python",
   "name": "python",
   "nbconvert_exporter": "python",
   "pygments_lexer": "ipython3",
   "version": "3.7.6"
  }
 },
 "nbformat": 4,
 "nbformat_minor": 4
}
